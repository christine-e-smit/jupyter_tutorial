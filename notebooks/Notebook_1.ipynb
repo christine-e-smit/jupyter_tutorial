{
 "cells": [
  {
   "cell_type": "markdown",
   "metadata": {},
   "source": [
    "# Getting started with a notebook\n",
    "\n",
    "\n",
    "## Cells\n",
    "A **notebook** consists of a series of cells. There are three kinds of cells:\n",
    "\n",
    "### 1. Markdown cells\n",
    "This is a Markdown cell. It gets rendered when it is run. Markdown syntax basics can be found here: https://jupyter-notebook.readthedocs.io/en/stable/examples/Notebook/Working%20With%20Markdown%20Cells.html.\n",
    "\n",
    "### 2. Code cells\n",
    "Code cells have python code that is executed when the cell is run. See the example below."
   ]
  },
  {
   "cell_type": "code",
   "execution_count": null,
   "metadata": {},
   "outputs": [],
   "source": [
    "# This is a code cell. It can be executed and do stuff.\n",
    "print(\"Hello, world\")"
   ]
  },
  {
   "cell_type": "markdown",
   "metadata": {},
   "source": [
    "### 3. Raw cells\n",
    "Raw cells are straight text. No real rendering is done when these cells are executed. See the example below."
   ]
  },
  {
   "cell_type": "raw",
   "metadata": {},
   "source": [
    "This is a raw cell. It's just plain text."
   ]
  },
  {
   "cell_type": "markdown",
   "metadata": {},
   "source": [
    "# Command mode\n",
    "\n",
    "Similar to vi, you are either in **command mode** or **edit mode**. When you are in command mode, there is no cursor. When you are in edit mode, there's a cursor.\n",
    "1. command mode --> edit mode: hit `enter` or click your mouse in a cell (double click for markdown cells)\n",
    "2. edit mode --> command mode: hit `escape`"
   ]
  },
  {
   "cell_type": "markdown",
   "metadata": {},
   "source": [
    "# Keyboard shortcuts\n",
    "1. run a cell: `shift` + `enter`\n",
    "2. code completion: `tab`\n",
    "\n",
    "\n",
    "Read up on keyboard shortcuts here: http://maxmelnick.com/2016/04/19/python-beginner-tips-and-tricks.html"
   ]
  },
  {
   "cell_type": "markdown",
   "metadata": {},
   "source": [
    "# Working between cells\n",
    "\n",
    "All cells execute in the same runtime. So, if you define a function in one cell and run that cell, the definition is available in other cells."
   ]
  },
  {
   "cell_type": "code",
   "execution_count": null,
   "metadata": {},
   "outputs": [],
   "source": [
    "def increment(value):\n",
    "    return value+1\n",
    "\n",
    "var1 = 12"
   ]
  },
  {
   "cell_type": "code",
   "execution_count": null,
   "metadata": {},
   "outputs": [],
   "source": [
    "print(var1)\n",
    "print(increment(1))"
   ]
  },
  {
   "cell_type": "markdown",
   "metadata": {},
   "source": [
    "# Cell output\n",
    "By default, cells display the output of the last line."
   ]
  },
  {
   "cell_type": "code",
   "execution_count": null,
   "metadata": {},
   "outputs": [],
   "source": [
    "increment(1)\n",
    "increment(2)"
   ]
  },
  {
   "cell_type": "markdown",
   "metadata": {},
   "source": [
    "# Markdown cell needing correction\n",
    "\n",
    "The quic browne fox jumps over the lazzy dog.\n"
   ]
  },
  {
   "cell_type": "markdown",
   "metadata": {},
   "source": [
    "------\n",
    "# Exercise 1:\n",
    "1. Execute the \"hello world\" cell. *Notice that the words \"hello world\" appear beneath the cell. Notice that once you execute the cell, a number will appear next to the cell.*\n",
    "2. Execute the \"hello world\" cell again. *Notice that the number next to the cell has incremented, indicating that it was the second cell executed.*\n",
    "\n",
    "# Exercise 2: \n",
    "Fix the typos in the markdown cell below and execute the cell to see the change."
   ]
  }
 ],
 "metadata": {
  "kernelspec": {
   "display_name": "Python 3",
   "language": "python",
   "name": "python3"
  },
  "language_info": {
   "codemirror_mode": {
    "name": "ipython",
    "version": 3
   },
   "file_extension": ".py",
   "mimetype": "text/x-python",
   "name": "python",
   "nbconvert_exporter": "python",
   "pygments_lexer": "ipython3",
   "version": "3.8.6"
  }
 },
 "nbformat": 4,
 "nbformat_minor": 4
}
