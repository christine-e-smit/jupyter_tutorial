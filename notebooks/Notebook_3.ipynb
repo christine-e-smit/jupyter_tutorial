{
 "cells": [
  {
   "cell_type": "markdown",
   "metadata": {},
   "source": [
    "# June Duststorm\n",
    "\n",
    "There was a massive dust storm in June. A time-averaged map of MODIS Aqua AOD for June 18 - June 23 clearly shows the dust moving across the Atlantic: \n",
    "\n",
    "https://giovanni.gsfc.nasa.gov/giovanni/#service=TmAvMp&starttime=2020-06-18T00:00:00Z&endtime=2020-06-23T23:59:59Z&bbox=-94.6875,2.5899,-8.2031,41.9649&data=MYD08_D3_6_1_Aerosol_Optical_Depth_Land_Ocean_Mean&variableFacets=dataFieldDiscipline%3AAerosols%3B&dataKeyword=MYD08_D3\n",
    "\n",
    "![plot](images/GIOVANNI-dust-storm.png)\n",
    "\n"
   ]
  },
  {
   "cell_type": "markdown",
   "metadata": {},
   "source": [
    "# Python packages\n",
    "\n",
    "Giovanni uses a variety of technologies to produce this plot. Let's produce something similar just with python!\n",
    "\n",
    "We're going to use some great data analysis and plotting tools:\n",
    "1. `xarray`: reads and interprets data with CF-1 metadata. Can be used with a variety of data sources, including netCDF, OPeNDAP (!), and zarr (with the correct metadata).\n",
    "2. `matplotlib`: creates plot\n",
    "3. `cartopy`: processes and plots geospatial data\n",
    "4. `numpy`: analyses data array/matrix"
   ]
  },
  {
   "cell_type": "code",
   "execution_count": null,
   "metadata": {},
   "outputs": [],
   "source": [
    "import xarray as xr\n",
    "import matplotlib.pyplot as plt\n",
    "import matplotlib.cm as cm\n",
    "import cartopy.crs as ccrs\n",
    "import numpy as np"
   ]
  },
  {
   "cell_type": "markdown",
   "metadata": {},
   "source": [
    "# Interactive widgets\n",
    "\n",
    "Set matplotlib into interactive mode with widgets"
   ]
  },
  {
   "cell_type": "code",
   "execution_count": null,
   "metadata": {},
   "outputs": [],
   "source": [
    "%matplotlib widget"
   ]
  },
  {
   "cell_type": "markdown",
   "metadata": {},
   "source": [
    "# Open a dataset with xarray\n",
    "\n",
    "We're going to cheat and start with the data file Giovanni produced when I ran this plot. We could download the raw data ourselves and calculate the average, but let's start with something simpler to start with.\n"
   ]
  },
  {
   "cell_type": "code",
   "execution_count": null,
   "metadata": {},
   "outputs": [],
   "source": [
    "ds = xr.open_dataset(\"data/g4.timeAvgMap.MYD08_D3_6_1_Aerosol_Optical_Depth_Land_Ocean_Mean.20200618-20200623.94W_2N_8W_41N.nc\")\n",
    "ds"
   ]
  },
  {
   "cell_type": "code",
   "execution_count": null,
   "metadata": {},
   "outputs": [],
   "source": [
    "# Pick a colormap for the data\n",
    "cmap_name = 'cividis'\n",
    "\n",
    "# Create a figure and axes\n",
    "fig = plt.figure()\n",
    "ax = plt.axes(projection = ccrs.PlateCarree())\n",
    "\n",
    "# Plot the variable\n",
    "ds[\"MYD08_D3_6_1_Aerosol_Optical_Depth_Land_Ocean_Mean\"].plot.contourf(\n",
    "    ax=ax,\n",
    "    levels=np.linspace(0,1,15),\n",
    "    extend='max',\n",
    "    transform=ccrs.PlateCarree(),\n",
    "    cbar_kwargs={\n",
    "        'fraction':0.02,  # make the colorbar fit\n",
    "        'label': '' # AOD is unit-less\n",
    "    },\n",
    "    cmap=cm.get_cmap(cmap_name))\n",
    "\n",
    "# Expand the map beyond the edges of the data\n",
    "ax.set_ylim(-20,60)\n",
    "ax.set_xlim(-120,15)\n",
    "\n",
    "# Add the coastlines for context.\n",
    "ax.coastlines()\n",
    "\n",
    "# Use the plot hints that giovanni put in the file to create a title.\n",
    "plt.title(ds.plot_hint_title + \"\\n\" + ds.plot_hint_subtitle,fontdict={'fontsize':8})\n",
    "\n",
    "# Make the plot visible\n",
    "fig.show()\n"
   ]
  },
  {
   "cell_type": "markdown",
   "metadata": {},
   "source": [
    "# Exercise 1:\n",
    "\n",
    "Execute the line below to get the `xarray.Dataset` view. Click around the interactive view to find the units for the `lat` variable."
   ]
  },
  {
   "cell_type": "code",
   "execution_count": null,
   "metadata": {},
   "outputs": [],
   "source": [
    "ds"
   ]
  },
  {
   "cell_type": "markdown",
   "metadata": {},
   "source": [
    "# Exercise 2:\n",
    "\n",
    "Scroll up to the plot you created. Use the controls to zoom in over the Caribbean."
   ]
  },
  {
   "cell_type": "markdown",
   "metadata": {},
   "source": [
    "# Exercise 3:\n",
    "Use a different colormap for the plot below. Matplotlib has quite a few built-in colorbars, which have been selected with both perception and color blindness in mind. **Google** is your friend for this exercise!"
   ]
  },
  {
   "cell_type": "code",
   "execution_count": null,
   "metadata": {},
   "outputs": [],
   "source": [
    "#################################################\n",
    "# Set cmap_name to something other than cividis #\n",
    "#################################################\n",
    "cmap_name = \"FIX ME\"\n",
    "\n",
    "fig = plt.figure()\n",
    "ax = plt.axes(projection = ccrs.PlateCarree())\n",
    "\n",
    "ds[\"MYD08_D3_6_1_Aerosol_Optical_Depth_Land_Ocean_Mean\"].plot.contourf(\n",
    "    ax=ax,\n",
    "    levels=np.linspace(0,1,15),\n",
    "    extend='max',\n",
    "    transform=ccrs.PlateCarree(),\n",
    "    cbar_kwargs={\n",
    "        'fraction':0.02,  # make the colorbar fit\n",
    "        'label': '' # AOD is unit-less\n",
    "    },\n",
    "    cmap=cm.get_cmap(cmap_name))\n",
    "# Expand the map beyond the edges of the data\n",
    "ax.set_ylim(-20,60)\n",
    "ax.set_xlim(-120,15)\n",
    "# Add the coastlines for context.\n",
    "ax.coastlines()\n",
    "# Use the plot hints that giovanni put in the file to create a title.\n",
    "plt.title(ds.plot_hint_title + \"\\n\" + ds.plot_hint_subtitle,fontdict={'fontsize':8})\n",
    "\n",
    "fig.show()"
   ]
  }
 ],
 "metadata": {
  "kernelspec": {
   "display_name": "Python 3",
   "language": "python",
   "name": "python3"
  },
  "language_info": {
   "codemirror_mode": {
    "name": "ipython",
    "version": 3
   },
   "file_extension": ".py",
   "mimetype": "text/x-python",
   "name": "python",
   "nbconvert_exporter": "python",
   "pygments_lexer": "ipython3",
   "version": "3.8.6"
  }
 },
 "nbformat": 4,
 "nbformat_minor": 4
}
